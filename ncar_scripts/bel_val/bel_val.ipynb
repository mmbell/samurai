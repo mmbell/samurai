{
 "cells": [
  {
   "cell_type": "code",
   "execution_count": 20,
   "id": "3d85d7ca",
   "metadata": {},
   "outputs": [],
   "source": [
    "import numpy as np\n",
    "import pandas as pd\n",
    "import os"
   ]
  },
  {
   "cell_type": "code",
   "execution_count": 21,
   "id": "3f552870",
   "metadata": {
    "lines_to_next_cell": 1
   },
   "outputs": [],
   "source": [
    "def extract_variables(file_name, variables):\n",
    "    # Read the file into a pandas DataFrame\n",
    "    df = pd.read_csv(file_name, sep=\"\\t\", comment=\"#\", header=0, usecols=variables)\n",
    "\n",
    "    # Convert the DataFrame to an xarray Dataset\n",
    "    #ds = xr.Dataset.from_dataframe(df)\n",
    "\n",
    "    return df"
   ]
  },
  {
   "cell_type": "code",
   "execution_count": 22,
   "id": "a4a6adfd",
   "metadata": {
    "lines_to_next_cell": 1
   },
   "outputs": [],
   "source": [
    "def calculate_rmse(data1, data2, variable):\n",
    "    # Extract the variable from both datasets\n",
    "    var1 = data1[variable].values\n",
    "    var2 = data2[variable].values\n",
    "\n",
    "    # Calculate the square of the difference between the two variables\n",
    "    diff_sq = (var1 - var2) ** 2\n",
    "\n",
    "    # Take the mean of the squared differences\n",
    "    mean_diff_sq = np.mean(diff_sq)\n",
    "\n",
    "    # Take the square root of the mean to get the RMSE\n",
    "    rmse = np.sqrt(mean_diff_sq)\n",
    "\n",
    "    return rmse"
   ]
  },
  {
   "cell_type": "code",
   "execution_count": 23,
   "id": "1404f26d",
   "metadata": {
    "lines_to_next_cell": 2
   },
   "outputs": [
    {
     "name": "stdout",
     "output_type": "stream",
     "text": [
      "Reference file exists:  /glade/derecho/scratch/cmille73/APAR/samurai/samurai_XYZ_analysis.out\n",
      "Comparison file exists:  /glade/derecho/scratch/cmille73/APAR/samurai/samurai_XYZ_analysis.test.out\n"
     ]
    }
   ],
   "source": [
    "\n",
    "# Specify the paths of the two output files - one from the reference simulation and one from the comparison simulation\n",
    "ref_path = \"samurai_XYZ_analysis.bel.ref.out\"\n",
    "comp_path = \"samurai_XYZ_analysis.test.out\"\n",
    "\n",
    "\n",
    "if os.path.isfile(ref_path):\n",
    "    print(\"Reference file exists: \", ref_path)\n",
    "else:\n",
    "    print(\"Reference file does not exist at: \", ref_path)\n",
    "\n",
    "if os.path.isfile(comp_path):\n",
    "    print(\"Comparison file exists: \", comp_path)\n",
    "else:\n",
    "    print(\"Comparison file does not exist at: \", comp_path)\n"
   ]
  },
  {
   "cell_type": "code",
   "execution_count": 28,
   "id": "ed2080fe",
   "metadata": {
    "lines_to_next_cell": 2
   },
   "outputs": [
    {
     "name": "stdout",
     "output_type": "stream",
     "text": [
      "Extracting variables:  ['u', 'v', 'w', 'Vorticity', 'Divergence']\n"
     ]
    }
   ],
   "source": [
    "\n",
    "\n",
    "#pull specified variables from the files\n",
    "variables = ['u', 'v', 'w', 'Vorticity', 'Divergence']\n",
    "print(\"Extracting variables: \", variables)\n",
    "ref = extract_variables(ref_path, variables)\n",
    "comp = extract_variables(comp_path, variables)"
   ]
  },
  {
   "cell_type": "code",
   "execution_count": 27,
   "id": "c5855031",
   "metadata": {
    "lines_to_next_cell": 2
   },
   "outputs": [
    {
     "name": "stdout",
     "output_type": "stream",
     "text": [
      "RMSE for u: 0.12098\n",
      "RMSE for v: 0.00720\n",
      "RMSE for w: 0.00154\n",
      "RMSE for Vorticity: 115.78046\n",
      "RMSE for Divergence: 0.00000\n"
     ]
    }
   ],
   "source": [
    "for variable in variables:\n",
    "    # Calculate the RMSE for this variable\n",
    "    rmse = calculate_rmse(ref, comp, variable)\n",
    "\n",
    "    # Print the RMSE with a nice label\n",
    "    print(f'RMSE for {variable}: {rmse:.5f}')"
   ]
  }
 ],
 "metadata": {
  "jupytext": {
   "cell_metadata_filter": "-all",
   "main_language": "python",
   "notebook_metadata_filter": "-all"
  },
  "kernelspec": {
   "display_name": "Python 3",
   "language": "python",
   "name": "python3"
  },
  "language_info": {
   "codemirror_mode": {
    "name": "ipython",
    "version": 3
   },
   "file_extension": ".py",
   "mimetype": "text/x-python",
   "name": "python",
   "nbconvert_exporter": "python",
   "pygments_lexer": "ipython3",
   "version": "3.10.13"
  }
 },
 "nbformat": 4,
 "nbformat_minor": 5
}
